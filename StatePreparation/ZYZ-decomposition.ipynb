{
 "cells": [
  {
   "cell_type": "code",
   "execution_count": 77,
   "metadata": {},
   "outputs": [],
   "source": [
    "import pennylane as qml\n",
    "import sympy as sp\n",
    "import numpy as np\n",
    "\n",
    "from sympy import symbols\n",
    "from sympy.matrices import Matrix"
   ]
  },
  {
   "cell_type": "code",
   "execution_count": 46,
   "metadata": {},
   "outputs": [
    {
     "data": {
      "text/latex": [
       "$\\displaystyle \\left[\\begin{matrix}e^{- 0.5 i teta_{0}} e^{- 0.5 i teta_{2}} \\cos{\\left(\\frac{teta_{1}}{2} \\right)} & - e^{- 0.5 i teta_{0}} e^{0.5 i teta_{2}} \\sin{\\left(\\frac{teta_{1}}{2} \\right)}\\\\e^{0.5 i teta_{0}} e^{- 0.5 i teta_{2}} \\sin{\\left(\\frac{teta_{1}}{2} \\right)} & e^{0.5 i teta_{0}} e^{0.5 i teta_{2}} \\cos{\\left(\\frac{teta_{1}}{2} \\right)}\\end{matrix}\\right]$"
      ],
      "text/plain": [
       "Matrix([\n",
       "[exp(-0.5*I*teta0)*exp(-0.5*I*teta2)*cos(teta1/2), -exp(-0.5*I*teta0)*exp(0.5*I*teta2)*sin(teta1/2)],\n",
       "[ exp(0.5*I*teta0)*exp(-0.5*I*teta2)*sin(teta1/2),   exp(0.5*I*teta0)*exp(0.5*I*teta2)*cos(teta1/2)]])"
      ]
     },
     "execution_count": 46,
     "metadata": {},
     "output_type": "execute_result"
    }
   ],
   "source": [
    "teta0, teta1, teta2 = symbols('teta0 teta1 teta2')\n",
    "\n",
    "Rz_teta0 = Matrix([\n",
    "    [sp.exp(-1j*teta0/2), 0],\n",
    "    [0, sp.exp(1j*teta0/2)],\n",
    "])\n",
    "\n",
    "Ry_teta1 = Matrix([\n",
    "    [sp.cos(teta1/2), -sp.sin(teta1/2)],\n",
    "    [sp.sin(teta1/2), sp.cos(teta1/2)],\n",
    "])\n",
    "\n",
    "Rz_teta2 = Matrix([\n",
    "    [sp.exp(-1j*teta2/2), 0],\n",
    "    [0, sp.exp(1j*teta2/2)],\n",
    "])\n",
    "\n",
    "U = Rz_teta0 * Ry_teta1 * Rz_teta2\n",
    "U"
   ]
  },
  {
   "cell_type": "markdown",
   "metadata": {},
   "source": [
    "Let's generate arbitrary unitary matrix"
   ]
  },
  {
   "cell_type": "code",
   "execution_count": 59,
   "metadata": {},
   "outputs": [
    {
     "name": "stdout",
     "output_type": "stream",
     "text": [
      "Is the matrix unitary? True\n"
     ]
    },
    {
     "data": {
      "text/plain": [
       "array([[-0.76792859-0.60901592j,  0.15547468-0.12334062j],\n",
       "       [-0.12969632+0.15021368j,  0.57657071+0.79257866j]])"
      ]
     },
     "execution_count": 59,
     "metadata": {},
     "output_type": "execute_result"
    }
   ],
   "source": [
    "from qiskit.quantum_info import random_unitary, Operator\n",
    "\n",
    "num_qubits = 1\n",
    "\n",
    "V_op = random_unitary(2 ** num_qubits)\n",
    "print(\"Is the matrix unitary?\", V_op.is_unitary())\n",
    "V = V_op.to_matrix()\n",
    "V"
   ]
  },
  {
   "cell_type": "code",
   "execution_count": 28,
   "metadata": {},
   "outputs": [],
   "source": [
    "V00 = V[0][0]\n",
    "V01 = V[0][1]\n",
    "V10 = V[1][0]\n",
    "V11 = V[1][1]"
   ]
  },
  {
   "cell_type": "code",
   "execution_count": 65,
   "metadata": {},
   "outputs": [
    {
     "data": {
      "text/plain": [
       "(0.6595491219794227, 0.7516614634901624, 1.701155131552466)"
      ]
     },
     "execution_count": 65,
     "metadata": {},
     "output_type": "execute_result"
    }
   ],
   "source": [
    "np.abs(V00), np.abs(V01), 2 * np.arcsin(np.abs(V01))"
   ]
  },
  {
   "cell_type": "code",
   "execution_count": 63,
   "metadata": {},
   "outputs": [
    {
     "data": {
      "text/plain": [
       "1.701155131552466"
      ]
     },
     "execution_count": 63,
     "metadata": {},
     "output_type": "execute_result"
    }
   ],
   "source": [
    "beta = 2 * np.arccos(np.abs(V00)) if np.abs(V00) >= np.abs(V01) else 2 * np.arcsin(np.abs(V01))\n",
    "beta"
   ]
  },
  {
   "cell_type": "code",
   "execution_count": 66,
   "metadata": {},
   "outputs": [
    {
     "data": {
      "text/plain": [
       "5.128402082749012"
      ]
     },
     "execution_count": 66,
     "metadata": {},
     "output_type": "execute_result"
    }
   ],
   "source": [
    "alpha = np.arctan2(np.imag(V11 / np.cos(beta)), np.real(V11 / np.cos(beta))) + np.arctan2(np.imag(V10 / np.sin(beta)), np.real(V10 / np.sin(beta)))\n",
    "alpha"
   ]
  },
  {
   "cell_type": "code",
   "execution_count": 67,
   "metadata": {},
   "outputs": [
    {
     "data": {
      "text/plain": [
       "0.8730329206403469"
      ]
     },
     "execution_count": 67,
     "metadata": {},
     "output_type": "execute_result"
    }
   ],
   "source": [
    "gamma = np.arctan2(np.imag(V11 / np.cos(beta)), np.real(V11 / np.cos(beta))) - np.arctan2(np.imag(V10 / np.sin(beta)), np.real(V10 / np.sin(beta)))\n",
    "gamma"
   ]
  },
  {
   "cell_type": "code",
   "execution_count": 68,
   "metadata": {},
   "outputs": [
    {
     "data": {
      "text/plain": [
       "(array([[-0.6530153 -0.09260706j,  0.39728855+0.63808836j],\n",
       "        [-0.39728855+0.63808836j, -0.6530153 +0.09260706j]]),\n",
       " array([[-0.76792859-0.60901592j,  0.15547468-0.12334062j],\n",
       "        [-0.12969632+0.15021368j,  0.57657071+0.79257866j]]))"
      ]
     },
     "execution_count": 68,
     "metadata": {},
     "output_type": "execute_result"
    }
   ],
   "source": [
    "U_decomposed = np.array(U.subs({teta0: alpha, teta1: beta, teta2: gamma })).astype(np.complex128)\n",
    "U_decomposed, V"
   ]
  },
  {
   "cell_type": "code",
   "execution_count": 69,
   "metadata": {},
   "outputs": [
    {
     "name": "stdout",
     "output_type": "stream",
     "text": [
      "Is the matrix unitary? True\n"
     ]
    }
   ],
   "source": [
    "print(\"Is the matrix unitary?\", Operator(U_decomposed).is_unitary())"
   ]
  },
  {
   "cell_type": "markdown",
   "metadata": {},
   "source": [
    "As you can see, we have a mismatch between all elements of a decomposed matrix and original matrix V, by somehow redistributing complex phases in a different way compared to the original matrix, leading to differences in the real and imaginary components of the amplitudes. Also probably, the decomposition might not fully capture the rotational invariance of the original matrix, leading to discrepancies in the distribution of amplitudes."
   ]
  },
  {
   "cell_type": "code",
   "execution_count": 74,
   "metadata": {},
   "outputs": [
    {
     "name": "stdout",
     "output_type": "stream",
     "text": [
      "0.6595491219794226 0.6595491219794227\n",
      "0.7516614634901624 0.7516614634901624\n",
      "0.7516614634901624 0.7516614634901625\n",
      "0.6595491219794226 0.6595491219794226\n"
     ]
    }
   ],
   "source": [
    "print(np.abs(U_decomposed[0][0]), np.abs(V00))\n",
    "print(np.abs(U_decomposed[0][1]), np.abs(V01))\n",
    "print(np.abs(U_decomposed[1][0]), np.abs(V10))\n",
    "print(np.abs(U_decomposed[1][1]), np.abs(V11))"
   ]
  },
  {
   "cell_type": "code",
   "execution_count": 82,
   "metadata": {},
   "outputs": [
    {
     "name": "stdout",
     "output_type": "stream",
     "text": [
      "[-0.76792859-0.60901592j -0.12969632+0.15021368j] [-0.6530153 -0.09260706j -0.39728855+0.63808836j]\n"
     ]
    }
   ],
   "source": [
    "zero_state = np.array([1, 0])\n",
    "state0, state1 = np.dot(V, zero_state), np.dot(U_decomposed, zero_state)\n",
    "print(state0, state1)"
   ]
  },
  {
   "cell_type": "code",
   "execution_count": 83,
   "metadata": {},
   "outputs": [
    {
     "data": {
      "text/plain": [
       "0.6196327316414841"
      ]
     },
     "execution_count": 83,
     "metadata": {},
     "output_type": "execute_result"
    }
   ],
   "source": [
    "qml.math.fidelity(state0=np.outer(state0, np.conj(state0)), state1=np.outer(state1, np.conj(state1)))"
   ]
  }
 ],
 "metadata": {
  "kernelspec": {
   "display_name": "Python 3",
   "language": "python",
   "name": "python3"
  },
  "language_info": {
   "codemirror_mode": {
    "name": "ipython",
    "version": 3
   },
   "file_extension": ".py",
   "mimetype": "text/x-python",
   "name": "python",
   "nbconvert_exporter": "python",
   "pygments_lexer": "ipython3",
   "version": "3.10.4"
  }
 },
 "nbformat": 4,
 "nbformat_minor": 2
}
