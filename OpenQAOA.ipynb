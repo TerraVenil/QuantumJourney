{
 "cells": [
  {
   "cell_type": "code",
   "execution_count": 29,
   "id": "ab0e438b",
   "metadata": {},
   "outputs": [],
   "source": [
    "from openqaoa.problems import QUBO\n",
    "from openqaoa import QAOA"
   ]
  },
  {
   "cell_type": "markdown",
   "id": "92395273",
   "metadata": {},
   "source": [
    "From [QUBO's tutorial paper](https://arxiv.org/pdf/1811.11538.pdf)\n",
    "\\begin{align}\n",
    "y = -5x_0 -3x_1 -8x_2 -6x_3 +4x_0x_1 +8x_0x_2 +2x_1x_2 +10x_2x_3\n",
    "\\end{align}\n",
    "\n",
    "\\begin{align}\n",
    "        y =\n",
    "        (x_0 \\; x_1 \\; x_2 \\; x_3)\n",
    "        \\begin{pmatrix}\n",
    "            -5 & 2 & 4 & 0\\\\ \n",
    "            2 & -3 & 1 & 0\\\\\n",
    "            4 & 1 & -8 & 5\\\\\n",
    "            0 & 0 & 5 & -6\n",
    "        \\end{pmatrix}\n",
    "        \\begin{pmatrix}\n",
    "            x_0 \\\\ x_1 \\\\ x_2 \\\\ x_3\n",
    "        \\end{pmatrix}\n",
    "\\end{align}"
   ]
  },
  {
   "cell_type": "code",
   "execution_count": 23,
   "id": "e61d8db4",
   "metadata": {},
   "outputs": [
    {
     "data": {
      "text/plain": [
       "{'terms': [[0], [1], [2], [3], [0, 1], [0, 2], [1, 2], [2, 3]],\n",
       " 'weights': [-5.0, -3.0, -8.0, -6.0, 4.0, 8.0, 2.0, 10.0],\n",
       " 'constant': 0,\n",
       " 'n': 4,\n",
       " 'problem_instance': {'problem_type': 'generic_qubo'},\n",
       " 'metadata': {}}"
      ]
     },
     "execution_count": 23,
     "metadata": {},
     "output_type": "execute_result"
    }
   ],
   "source": [
    "terms = [[0], [1], [2], [3], [0,1], [0,2], [1,2], [2,3]]\n",
    "weights = [-5, -3, -8, -6, 4, 8, 2, 10]\n",
    "\n",
    "qubo1 = QUBO(n=4, terms=terms, weights=weights)\n",
    "qubo1.asdict()"
   ]
  },
  {
   "cell_type": "markdown",
   "id": "405cd3b1",
   "metadata": {},
   "source": [
    "The solution according to paper: $y$ = -11, $x_0$ = $x_3$ = 1, $x_1$ = $x_2$ = 0, so bitstring is 1001.\n",
    "\n",
    "Solving the problem with QAOA with default configuration:"
   ]
  },
  {
   "cell_type": "code",
   "execution_count": 24,
   "id": "55a29fe7",
   "metadata": {},
   "outputs": [],
   "source": [
    "s1 = QAOA()\n",
    "s1.compile(qubo1)\n",
    "s1.optimize()\n",
    "result = s1.result"
   ]
  },
  {
   "cell_type": "code",
   "execution_count": 22,
   "id": "4e0f017b",
   "metadata": {},
   "outputs": [
    {
     "data": {
      "text/plain": [
       "{'angles': [1.243729362954, 0.340245636307],\n",
       " 'cost': -1.720743265023,\n",
       " 'measurement_outcomes': array([-0.12864806+0.10612882j, -0.09740045+0.21169534j,\n",
       "        -0.03200846+0.03879354j, -0.03902651+0.14660317j,\n",
       "        -0.12930469-0.11503485j,  0.00699163-0.07406441j,\n",
       "         0.160736  +0.29802834j, -0.0941285 +0.14185505j,\n",
       "         0.21362316+0.10500403j,  0.44907972+0.06726187j,\n",
       "         0.07424044+0.23259368j,  0.19794531+0.05813571j,\n",
       "         0.16813648+0.19127032j,  0.05549009+0.00557399j,\n",
       "         0.02316411-0.43732588j,  0.24970117-0.16148j   ]),\n",
       " 'job_id': 'e6b23aa7-1e73-4c10-8bde-8c65c1a1c46c',\n",
       " 'eval_number': 100}"
      ]
     },
     "execution_count": 22,
     "metadata": {},
     "output_type": "execute_result"
    }
   ],
   "source": [
    "result.optimized"
   ]
  },
  {
   "cell_type": "code",
   "execution_count": 25,
   "id": "bfd8eaa4",
   "metadata": {},
   "outputs": [
    {
     "data": {
      "text/plain": [
       "{'solutions_bitstrings': ['1001'], 'bitstring_energy': -20.0}"
      ]
     },
     "execution_count": 25,
     "metadata": {},
     "output_type": "execute_result"
    }
   ],
   "source": [
    "result.most_probable_states"
   ]
  },
  {
   "cell_type": "markdown",
   "id": "ecb714be",
   "metadata": {},
   "source": [
    "So it does't match -11 but solutions_bitstrings is exactly 1001. So let's try another tool such as qubovert."
   ]
  },
  {
   "cell_type": "code",
   "execution_count": 7,
   "id": "9a742e5a",
   "metadata": {},
   "outputs": [],
   "source": [
    "import qubovert as qv"
   ]
  },
  {
   "cell_type": "code",
   "execution_count": 8,
   "id": "77d6cd23",
   "metadata": {},
   "outputs": [],
   "source": [
    "Q = [[-5, 2, 4, 0],\n",
    "     [2, -3, 1, 0],\n",
    "     [4, 1, -8, 5], \n",
    "     [0, 0, 5, -6]]"
   ]
  },
  {
   "cell_type": "code",
   "execution_count": 26,
   "id": "f29d9ac5",
   "metadata": {},
   "outputs": [],
   "source": [
    "q2 = qv.utils.matrix_to_qubo(Q)\n",
    "s2 = qv.utils.solve_qubo_bruteforce(q2)"
   ]
  },
  {
   "cell_type": "code",
   "execution_count": 27,
   "id": "ce344a57",
   "metadata": {},
   "outputs": [
    {
     "data": {
      "text/plain": [
       "(-11, {0: 1, 1: 0, 2: 0, 3: 1})"
      ]
     },
     "execution_count": 27,
     "metadata": {},
     "output_type": "execute_result"
    }
   ],
   "source": [
    "s2"
   ]
  },
  {
   "cell_type": "markdown",
   "id": "d88fc3f9",
   "metadata": {},
   "source": [
    "Here we got the exact solution as in paper."
   ]
  },
  {
   "cell_type": "markdown",
   "id": "8f5dd4ea",
   "metadata": {},
   "source": [
    "Why do we have different results for y? -20 (OpenQAOA) vs -11 (qubovert)"
   ]
  }
 ],
 "metadata": {
  "kernelspec": {
   "display_name": "Python 3 (ipykernel)",
   "language": "python",
   "name": "python3"
  },
  "language_info": {
   "codemirror_mode": {
    "name": "ipython",
    "version": 3
   },
   "file_extension": ".py",
   "mimetype": "text/x-python",
   "name": "python",
   "nbconvert_exporter": "python",
   "pygments_lexer": "ipython3",
   "version": "3.9.16"
  }
 },
 "nbformat": 4,
 "nbformat_minor": 5
}
